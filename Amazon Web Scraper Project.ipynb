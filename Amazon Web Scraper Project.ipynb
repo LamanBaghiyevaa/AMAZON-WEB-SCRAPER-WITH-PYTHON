{
 "cells": [
  {
   "cell_type": "markdown",
   "id": "d822fcf5",
   "metadata": {},
   "source": [
    "# Amazon Web Scraper Project"
   ]
  },
  {
   "cell_type": "code",
   "execution_count": 2,
   "id": "b2b85a9f",
   "metadata": {},
   "outputs": [],
   "source": [
    "# import libraries \n",
    "\n",
    "from bs4 import BeautifulSoup\n",
    "import requests"
   ]
  },
  {
   "cell_type": "code",
   "execution_count": 3,
   "id": "9d4e84d6",
   "metadata": {},
   "outputs": [
    {
     "name": "stdout",
     "output_type": "stream",
     "text": [
      "\n",
      "                    Funny Got Data MIS Data Systems Business Analyst T-Shirt\n",
      "                   \n"
     ]
    }
   ],
   "source": [
    "# Connect to Website and pull in data\n",
    "\n",
    "URL = 'https://www.amazon.com/Funny-Data-Systems-Business-Analyst/dp/B07FNW9FGJ/ref=sr_1_3?dchild=1&keywords=data%2Banalyst%2Btshirt&qid=1626655184&sr=8-3&customId=B0752XJYNL&th=1'\n",
    "\n",
    "headers = {\"User-Agent\": \"Mozilla/5.0 (Windows NT 10.0; Win64; x64) AppleWebKit/537.36 (KHTML, like Gecko) Chrome/78.0.3904.108 Safari/537.36\", \n",
    "           \"Accept-Encoding\":\"gzip, deflate\", \n",
    "           \"Accept\":\"text/html,application/xhtml+xml,application/xml;q=0.9,*/*;q=0.8\",\n",
    "           \"DNT\":\"1\",\n",
    "           \"Connection\":\"close\", \n",
    "           \"Upgrade-Insecure-Requests\":\"1\"}\n",
    "\n",
    "page = requests.get(URL, headers=headers)\n",
    "\n",
    "soup1 = BeautifulSoup(page.content, \"html.parser\")\n",
    "soup2 = BeautifulSoup(soup1.prettify(), \"html.parser\")\n",
    "\n",
    "title = soup2.find(id='productTitle').get_text()\n",
    "\n",
    "print(title)\n",
    "\n"
   ]
  },
  {
   "cell_type": "code",
   "execution_count": 4,
   "id": "26e53ee2",
   "metadata": {},
   "outputs": [
    {
     "data": {
      "text/plain": [
       "'Funny Got Data MIS Data Systems Business Analyst T-Shirt'"
      ]
     },
     "execution_count": 4,
     "metadata": {},
     "output_type": "execute_result"
    }
   ],
   "source": [
    "title = title.strip()\n",
    "title"
   ]
  },
  {
   "cell_type": "code",
   "execution_count": 5,
   "id": "f12f9ae2",
   "metadata": {},
   "outputs": [
    {
     "name": "stdout",
     "output_type": "stream",
     "text": [
      "2024-03-09\n"
     ]
    }
   ],
   "source": [
    " # Create a Timestamp for your output to track when data was collected\n",
    "\n",
    "import datetime\n",
    "\n",
    "today = datetime.date.today()\n",
    "\n",
    "print(today)\n",
    "\n",
    "\n"
   ]
  },
  {
   "cell_type": "code",
   "execution_count": 11,
   "id": "4f74837b",
   "metadata": {},
   "outputs": [
    {
     "name": "stdout",
     "output_type": "stream",
     "text": [
      "Directory already exists or cannot be created. Please verify the path.\n",
      "CSV file created successfully at: C:\\Users\\user\\OneDrive\\Desktop\\Amazon\\amazon.csv\n"
     ]
    }
   ],
   "source": [
    "import csv \n",
    "import os\n",
    "\n",
    "file_into=({\n",
    "    'header': ['Title', 'Date'],\n",
    "    'data' : [title, today]\n",
    "})\n",
    "\n",
    "\n",
    "# Define the path to the desktop folder\n",
    "path = r'C:\\Users\\user\\OneDrive\\Desktop'\n",
    "\n",
    "# Check if the \"Amazon\" folder exists, if not create it\n",
    "if not os.path.exists(os.path.join(path, 'Amazon')):\n",
    "    os.makedirs(os.path.join(path, 'Amazon'))\n",
    "else:\n",
    "    print(\"Directory already exists or cannot be created. Please verify the path.\")\n",
    "\n",
    "# Define the file path for the CSV file\n",
    "file_path = os.path.join(path, \"Amazon\", 'amazon.csv')\n",
    "\n",
    "# Create the CSV file and write headers and data into it\n",
    "with open(file_path, 'w', newline='', encoding='UTF8') as f:\n",
    "    writer = csv.writer(f)\n",
    "    for i in file_into.keys():\n",
    "        writer.writerow(file_into[i])  # Write headers\n",
    "\n",
    "\n",
    "print(f\"CSV file created successfully at: {file_path}\")\n"
   ]
  },
  {
   "cell_type": "code",
   "execution_count": 8,
   "id": "d6d60063",
   "metadata": {},
   "outputs": [],
   "source": [
    "import requests\n",
    "from bs4 import BeautifulSoup\n",
    "import datetime\n",
    "import csv \n",
    "import os\n",
    "\n",
    "def check_price():\n",
    "    URL = 'https://www.amazon.com/Funny-Data-Systems-Business-Analyst/dp/B07FNW9FGJ/ref=sr_1_3?dchild=1&keywords=data%2Banalyst%2Btshirt&qid=1626655184&sr=8-3&customId=B0752XJYNL&th=1'\n",
    "\n",
    "    headers = {\n",
    "        \"User-Agent\": \"Mozilla/5.0 (Windows NT 10.0; Win64; x64) AppleWebKit/537.36 (KHTML, like Gecko) Chrome/78.0.3904.108 Safari/537.36\", \n",
    "        \"Accept-Encoding\":\"gzip, deflate\", \n",
    "        \"Accept\":\"text/html,application/xhtml+xml,application/xml;q=0.9,*/*;q=0.8\", \n",
    "        \"DNT\":\"1\",\n",
    "        \"Connection\":\"close\", \n",
    "        \"Upgrade-Insecure-Requests\":\"1\"\n",
    "    }\n",
    "\n",
    "    page = requests.get(URL, headers=headers)\n",
    "\n",
    "    soup1 = BeautifulSoup(page.content, \"html.parser\")\n",
    "\n",
    "    soup2 = BeautifulSoup(soup1.prettify(), \"html.parser\")\n",
    "\n",
    "    title = soup2.find(id='productTitle').get_text()\n",
    "\n",
    "    title = title.strip()\n",
    "\n",
    "    today = datetime.date.today()\n",
    "\n",
    "    header = ['Title', 'Date']\n",
    "    data = [title, today]\n",
    "\n",
    "    path = r'C:\\Users\\user\\OneDrive\\Desktop\\Amazon'\n",
    "    file_path = os.path.join(path, 'AmazonWebScraperDataset.csv')\n",
    "\n",
    "    with open(file_path, 'a+', newline='', encoding='UTF8') as f:\n",
    "        writer = csv.writer(f)\n",
    "        writer.writerow(data)\n",
    "\n",
    "check_price()\n"
   ]
  },
  {
   "cell_type": "code",
   "execution_count": null,
   "id": "bff345bc",
   "metadata": {
    "scrolled": true
   },
   "outputs": [],
   "source": [
    "import time\n",
    "\n",
    "while True:\n",
    "    check_price()\n",
    "    time.sleep(86400)\n"
   ]
  },
  {
   "cell_type": "code",
   "execution_count": null,
   "id": "a8cdd76b",
   "metadata": {},
   "outputs": [],
   "source": [
    "import pandas as pd\n",
    "import os\n",
    "\n",
    "# Assuming path is defined as before\n",
    "path = r'C:\\Users\\user\\OneDrive\\Desktop\\Amazon'\n",
    "\n",
    "df = pd.read_csv(os.path.join(path, 'AmazonWebScraperDataset.csv'))\n",
    "\n",
    "\n",
    "print(df)\n"
   ]
  }
 ],
 "metadata": {
  "kernelspec": {
   "display_name": "Python 3 (ipykernel)",
   "language": "python",
   "name": "python3"
  },
  "language_info": {
   "codemirror_mode": {
    "name": "ipython",
    "version": 3
   },
   "file_extension": ".py",
   "mimetype": "text/x-python",
   "name": "python",
   "nbconvert_exporter": "python",
   "pygments_lexer": "ipython3",
   "version": "3.11.5"
  }
 },
 "nbformat": 4,
 "nbformat_minor": 5
}
